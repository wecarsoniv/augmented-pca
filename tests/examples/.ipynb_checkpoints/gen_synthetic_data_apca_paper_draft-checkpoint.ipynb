{
 "cells": [
  {
   "cell_type": "markdown",
   "id": "heavy-dakota",
   "metadata": {},
   "source": [
    "## **Adversarial PCA** - Generate Synthetic Data\n",
    "\n",
    "File:  gen_synthetic_data.ipynb\n",
    "\n",
    "Author:  Billy Carson\n",
    "\n",
    "Date written:  04-10-2021\n",
    "\n",
    "Last modified:  04-10-2021\n",
    "\n",
    "> Description: This script generates a synthetic dataset to use as an example for decomposition with adversarial Principal Component Analysis (aPCA) as well as demonstrate the differences between aPCA types.\n"
   ]
  },
  {
   "cell_type": "markdown",
   "id": "greater-credit",
   "metadata": {},
   "source": [
    "### **Import modules**"
   ]
  },
  {
   "cell_type": "code",
   "execution_count": 1,
   "id": "rotary-shannon",
   "metadata": {},
   "outputs": [],
   "source": [
    "# Import modules\n",
    "import sys\n",
    "import numpy as np\n",
    "from numpy.random import RandomState, SeedSequence\n",
    "import matplotlib.pyplot as plt\n",
    "from sklearn.preprocessing import scale\n",
    "\n",
    "# Import aPCA and utilities modules\n",
    "sys.path.append('....')\n",
    "from utils import *\n",
    "from adv_pca import *\n"
   ]
  },
  {
   "cell_type": "code",
   "execution_count": 23,
   "id": "other-works",
   "metadata": {},
   "outputs": [],
   "source": [
    "seed = 4\n",
    "rng = np.random.default_rng(seed)\n"
   ]
  },
  {
   "cell_type": "markdown",
   "id": "economic-nickel",
   "metadata": {},
   "source": [
    "### **Define data generation variables**"
   ]
  },
  {
   "cell_type": "code",
   "execution_count": 115,
   "id": "joined-rugby",
   "metadata": {},
   "outputs": [],
   "source": [
    "# Loading parameters\n",
    "lam_1 = 10.0\n",
    "lam_2 = 1.0\n",
    "r = 0.2\n",
    "\n",
    "# Define loading matrices\n",
    "W = np.array([[lam_1, 0.0],\n",
    "              [0.0, lam_2]])\n",
    "D = np.array([[r * lam_1, 0]])\n"
   ]
  },
  {
   "cell_type": "markdown",
   "id": "written-treatment",
   "metadata": {},
   "source": [
    "### **Generate synthetic data**"
   ]
  },
  {
   "cell_type": "code",
   "execution_count": 116,
   "id": "demographic-northern",
   "metadata": {},
   "outputs": [],
   "source": [
    "# Number of samples\n",
    "n_samp = 100\n",
    "\n",
    "# Noise parameters\n",
    "sigma = 1.0\n",
    "\n",
    "# Generate scores and noise matrices\n",
    "# S = np.random.normal(mu, sigma, size=(W.shape[0], 100))\n",
    "# eps = np.random.normal(mu, sigma, size=(W.shape[0], 100))\n",
    "# eta = np.random.normal(mu, sigma, size=(D.shape[0], 100))\n",
    "S = rng.normal(0, sigma, size=(W.shape[0], n_samp))\n",
    "eps = rng.normal(0, sigma, size=(W.shape[0], n_samp))\n",
    "eta = rng.normal(0, sigma, size=(D.shape[0], n_samp))\n",
    "\n",
    "# Define primary data X and concomitant data Y\n",
    "X = ((W @ S) + eps).T\n",
    "Y = ((D @ S) + eta).T\n"
   ]
  },
  {
   "cell_type": "code",
   "execution_count": 117,
   "id": "associate-stretch",
   "metadata": {},
   "outputs": [
    {
     "name": "stdout",
     "output_type": "stream",
     "text": [
      "(100, 2)\n",
      "(100, 1)\n",
      "(2, 100)\n",
      "(2, 100)\n"
     ]
    }
   ],
   "source": [
    "print(X.shape)\n",
    "print(Y.shape)\n",
    "print(eps.shape)\n",
    "print((W @ S).shape)"
   ]
  },
  {
   "cell_type": "code",
   "execution_count": 118,
   "id": "patient-worth",
   "metadata": {},
   "outputs": [],
   "source": [
    "# Scale data\n",
    "X_scaled = scale(X.copy())\n",
    "Y_scaled = scale(Y.copy())\n"
   ]
  },
  {
   "cell_type": "code",
   "execution_count": 119,
   "id": "lightweight-interview",
   "metadata": {},
   "outputs": [],
   "source": [
    "# Define number of components\n",
    "n_components = 2\n",
    "\n",
    "# Create list of mu values\n",
    "mu_lo = 0.0\n",
    "mu_hi = 5.0\n",
    "mu_step = 0.01\n",
    "mu_list = list(np.arange(mu_lo, mu_hi + mu_step, mu_step))\n",
    "\n",
    "X_recon_err_lpca_list = []\n",
    "X_recon_err_epca_list = []\n",
    "X_recon_err_jpca_list = []\n",
    "\n",
    "Y_recon_err_lpca_list = []\n",
    "Y_recon_err_epca_list = []\n",
    "Y_recon_err_jpca_list = []\n",
    "\n",
    "for mu in mu_list:\n",
    "    l_apca = LocalAdvPCA(n_components=n_components, mu=mu)\n",
    "    e_apca = EncodedAdvPCA(n_components=n_components, mu=mu)\n",
    "    j_apca = JointAdvPCA(n_components=n_components, mu=mu)\n",
    "    \n",
    "    l_apca.fit(X=X_scaled, Y=Y_scaled)\n",
    "    e_apca.fit(X=X_scaled, Y=Y_scaled)\n",
    "    j_apca.fit(X=X_scaled, Y=Y_scaled)\n",
    "    \n",
    "    X_recon_lapca, Y_recon_lapca = l_apca.reconstruct(X=X_scaled, Y=Y_scaled)\n",
    "    \n",
    "    X_recon_eapca, Y_recon_eapca = e_apca.reconstruct(X=X_scaled, Y=Y_scaled)\n",
    "    \n",
    "    X_recon_japca, Y_recon_japca = j_apca.reconstruct(X=X_scaled, Y=Y_scaled)\n",
    "    \n",
    "    X_recon_err_lpca = np.mean((X_scaled - X_recon_lapca) ** 2)\n",
    "    X_recon_err_epca = np.mean((X_scaled - X_recon_eapca) ** 2)\n",
    "    X_recon_err_jpca = np.mean((X_scaled - X_recon_japca) ** 2)\n",
    "    \n",
    "    Y_recon_err_lpca = np.mean((Y_scaled - Y_recon_lapca) ** 2)\n",
    "    Y_recon_err_epca = np.mean((Y_scaled - Y_recon_eapca) ** 2)\n",
    "    Y_recon_err_jpca = np.mean((Y_scaled - Y_recon_japca) ** 2)\n",
    "\n",
    "    X_recon_err_lpca_list.append(X_recon_err_lpca)\n",
    "    X_recon_err_epca_list.append(X_recon_err_epca)\n",
    "    X_recon_err_jpca_list.append(X_recon_err_jpca)\n",
    "\n",
    "    Y_recon_err_lpca_list.append(Y_recon_err_lpca)\n",
    "    Y_recon_err_epca_list.append(Y_recon_err_epca)\n",
    "    Y_recon_err_jpca_list.append(Y_recon_err_jpca)\n",
    "\n"
   ]
  },
  {
   "cell_type": "code",
   "execution_count": 120,
   "id": "international-curve",
   "metadata": {},
   "outputs": [
    {
     "data": {
      "image/png": "[encoded data removed]",
      "text/plain": [
       "<Figure size 720x576 with 2 Axes>"
      ]
     },
     "metadata": {
      "needs_background": "light"
     },
     "output_type": "display_data"
    }
   ],
   "source": [
    "fig1, ax1 = plt.subplots(nrows=2, ncols=1, sharex=True, figsize=(10, 8))\n",
    "\n",
    "ax1[0].plot(mu_list, X_recon_err_lpca_list, c='b', linestyle='-', linewidth=1.0, alpha=0.6)\n",
    "ax1[0].plot(mu_list, X_recon_err_epca_list, linestyle='-', linewidth=1.0, alpha=0.6)\n",
    "ax1[0].plot(mu_list, X_recon_err_jpca_list, c='r', linestyle='--', linewidth=2.0, alpha=0.6)\n",
    "ax1[0].grid(alpha=0.3)\n",
    "ax1[0].set_axisbelow(True)\n",
    "\n",
    "ax1[1].plot(mu_list, Y_recon_err_lpca_list, c='b', linestyle='-', linewidth=1.0, alpha=0.6)\n",
    "ax1[1].plot(mu_list, Y_recon_err_epca_list, linestyle='-', linewidth=1.0, alpha=0.6)\n",
    "ax1[1].plot(mu_list, Y_recon_err_jpca_list, c='r', linestyle='--', linewidth=2.0, alpha=0.6)\n",
    "ax1[1].grid(alpha=0.3)\n",
    "ax1[1].set_axisbelow(True)\n",
    "\n",
    "plt.show()\n"
   ]
  },
  {
   "cell_type": "code",
   "execution_count": null,
   "id": "sitting-decrease",
   "metadata": {},
   "outputs": [],
   "source": []
  },
  {
   "cell_type": "code",
   "execution_count": null,
   "id": "imperial-picnic",
   "metadata": {},
   "outputs": [],
   "source": []
  },
  {
   "cell_type": "code",
   "execution_count": null,
   "id": "level-january",
   "metadata": {},
   "outputs": [],
   "source": []
  }
 ],
 "metadata": {
  "kernelspec": {
   "display_name": "Python 3",
   "language": "python",
   "name": "python3"
  },
  "language_info": {
   "codemirror_mode": {
    "name": "ipython",
    "version": 3
   },
   "file_extension": ".py",
   "mimetype": "text/x-python",
   "name": "python",
   "nbconvert_exporter": "python",
   "pygments_lexer": "ipython3",
   "version": "3.8.5"
  }
 },
 "nbformat": 4,
 "nbformat_minor": 5
}
