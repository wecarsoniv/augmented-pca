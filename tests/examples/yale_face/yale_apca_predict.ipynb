{
 "cells": [
  {
   "cell_type": "markdown",
   "id": "bibliographic-forge",
   "metadata": {},
   "source": [
    "## **Learning Invariant Representations for Classification** - Yale Face Dataset\n",
    "\n",
    "File:  yale_apca_redict.ipynb\n",
    "\n",
    "Author:  Billy Carson\n",
    "\n",
    "Date written:  05-09-2021\n",
    "\n",
    "Last modified:  05-15-2021\n",
    "\n",
    "> Description: This script uses adversarial APCA to learn representations invariant to lighting conditions. Azimuth (location of the lighting source) is treated as the concomitant/nuisance data, while the image is considered the primary data. Adverarial APCA learns an invariant representation for various adversarial strength values. Subsequently, logistic regression uses the learned invariant representation to make predictions on individual identity.\n"
   ]
  },
  {
   "cell_type": "markdown",
   "id": "behavioral-chase",
   "metadata": {},
   "source": [
    "### **Import modules**"
   ]
  },
  {
   "cell_type": "code",
   "execution_count": 1,
   "id": "superior-appointment",
   "metadata": {},
   "outputs": [],
   "source": [
    "# Import modules\n",
    "import os\n",
    "import numpy as np\n",
    "import time\n",
    "import PIL\n",
    "from PIL import Image\n",
    "from scipy.interpolate import make_interp_spline, BSpline\n",
    "from tqdm.notebook import tqdm\n",
    "import matplotlib.pyplot as plt\n",
    "import matplotlib.gridspec as gridspec\n",
    "from sklearn.preprocessing import StandardScaler, MinMaxScaler\n",
    "from sklearn.model_selection import train_test_split\n",
    "from sklearn.metrics import balanced_accuracy_score, accuracy_score, mean_squared_error, roc_auc_score\n",
    "from sklearn.decomposition import PCA\n",
    "from sklearn.linear_model import LogisticRegression, Ridge\n",
    "from sklearn.ensemble import RandomForestClassifier, RandomForestRegressor\n",
    "from apca.models import *\n",
    "from apca.metrics import *\n",
    "\n",
    "# Import data loading functions\n",
    "from load_data import *\n",
    "from preprocessing import *\n",
    "\n",
    "# Define random state\n",
    "random_state = 0\n"
   ]
  },
  {
   "cell_type": "markdown",
   "id": "comfortable-processing",
   "metadata": {},
   "source": [
    "### **Load data**"
   ]
  },
  {
   "cell_type": "code",
   "execution_count": 2,
   "id": "hungry-consideration",
   "metadata": {},
   "outputs": [
    {
     "name": "stdout",
     "output_type": "stream",
     "text": [
      "\n",
      "Data dimensions:\n",
      "\n",
      "  X shape:  (411, 2016)\n",
      "  Y shape:  (411, 1)\n",
      "  labels shape:  (411,)\n",
      "\n"
     ]
    }
   ],
   "source": [
    "# Load data into arrays\n",
    "dir_path = '/hdd/carlson_lab/data/yale_face/cropped_b/'\n",
    "resize_factor = 0.25\n",
    "X, Y, labels_id, labels_shadow = load_cropped_yale_face(dir_path=dir_path, resize_factor=resize_factor)\n",
    "\n",
    "# Remove outliers\n",
    "# X, Y, labels_id, labels_shadow = remove_img_outliers(X, Y, labels_id, labels_shadow, outlier_thresh=10.0)\n",
    "\n",
    "# Image width and height\n",
    "img_width_orig = 168\n",
    "img_height_orig = 192\n",
    "img_width = int(resize_factor * img_width_orig)\n",
    "img_height = int(resize_factor * img_height_orig)\n",
    "\n",
    "# Display data dimensions\n",
    "print('\\nData dimensions:\\n')\n",
    "print('  X shape:  (%d, %d)' % (X.shape))\n",
    "print('  Y shape:  (%d, %d)' % (Y.shape))\n",
    "print('  labels shape:  (%d,)\\n' % (labels_id.shape))\n"
   ]
  },
  {
   "cell_type": "markdown",
   "id": "optimum-alloy",
   "metadata": {},
   "source": [
    "### **Split data**"
   ]
  },
  {
   "cell_type": "code",
   "execution_count": 3,
   "id": "split-longer",
   "metadata": {},
   "outputs": [
    {
     "name": "stdout",
     "output_type": "stream",
     "text": [
      "\n",
      "Test/train split details:\n",
      "\n",
      "  Training samples:  205\n",
      "  Test samples:  206\n",
      "\n"
     ]
    }
   ],
   "source": [
    "# Split data\n",
    "X_train, X_test, Y_train, Y_test, labels_id_train, labels_id_test, labels_shadow_train, \\\n",
    "labels_shadow_test = train_test_split(X, Y, labels_id, labels_shadow, test_size=0.5,\n",
    "                                      shuffle=True, random_state=random_state)\n",
    "\n",
    "# Display split details\n",
    "print('\\nTest/train split details:\\n')\n",
    "print('  Training samples:  %d' % (X_train.shape[0]))\n",
    "print('  Test samples:  %d\\n' % (X_test.shape[0]))\n"
   ]
  },
  {
   "cell_type": "markdown",
   "id": "transparent-edgar",
   "metadata": {},
   "source": [
    "### **Scale data**"
   ]
  },
  {
   "cell_type": "code",
   "execution_count": 4,
   "id": "interstate-jenny",
   "metadata": {},
   "outputs": [],
   "source": [
    "# Instantiate scaler objects\n",
    "feature_range = (0, 1)\n",
    "scaler_X = RangeScaler(feature_range=feature_range, copy=True)\n",
    "scaler_Y = RangeScaler(feature_range=feature_range, copy=True)\n",
    "\n",
    "# Scale primary data to between 0 and 1\n",
    "X_train_scaled = scaler_X.fit_transform(X=X_train)\n",
    "X_test_scaled = scaler_X.transform(X=X_test)\n",
    "\n",
    "# Scale concomitant data to between 0 and 1\n",
    "Y_train_scaled = scaler_Y.fit_transform(X=Y_train)\n",
    "Y_test_scaled = scaler_Y.transform(X=Y_test)\n"
   ]
  },
  {
   "cell_type": "markdown",
   "id": "medium-anaheim",
   "metadata": {},
   "source": [
    "### **Classify identity** - Adversarial APCA"
   ]
  },
  {
   "cell_type": "code",
   "execution_count": 11,
   "id": "separated-covering",
   "metadata": {},
   "outputs": [
    {
     "name": "stdout",
     "output_type": "stream",
     "text": [
      "\n",
      "Logistic regression on orginal image data:  0.636\n",
      "\n"
     ]
    },
    {
     "data": {
      "application/vnd.jupyter.widget-view+json": {
       "model_id": "a581ad8e2a17423a9a1e906e2f814fbc",
       "version_major": 2,
       "version_minor": 0
      },
      "text/plain": [
       "  0%|          | 0/33 [00:00<?, ?it/s]"
      ]
     },
     "metadata": {},
     "output_type": "display_data"
    }
   ],
   "source": [
    "# Number of components\n",
    "n_components = 100\n",
    "\n",
    "# Adversary strength list\n",
    "mu_lo = 0.0\n",
    "mu_hi = 16000.0\n",
    "mu_step = 500.0\n",
    "mu_list = list(np.arange(mu_lo, mu_hi + mu_step, mu_step))\n",
    "\n",
    "# Initialize and instantiate\n",
    "scaler_S = StandardScaler()\n",
    "model = LogisticRegression(penalty='none', solver='lbfgs', max_iter=100000, random_state=random_state)\n",
    "# model = LogisticRegression(penalty='l2', C=10.0, solver='lbfgs', max_iter=100000, random_state=random_state)\n",
    "id_test_acc_list = []\n",
    "shadow_test_acc_list = []\n",
    "shadow_test_auc_list = []\n",
    "\n",
    "# Data prediction\n",
    "model.fit(X_train_scaled, labels_id_train)\n",
    "y_pred = model.predict(X_test_scaled)\n",
    "test_acc = accuracy_score(y_true=labels_id_test, y_pred=y_pred)\n",
    "print('\\nLogistic regression on orginal image data:  %.3f\\n' % (test_acc))\n",
    "\n",
    "# Iterate over increasing adversary strengths\n",
    "for mu in tqdm(mu_list):\n",
    "    # Instantiate APCA model with new adversary strength value\n",
    "    aapca = aAPCA(n_components=n_components, mu=mu, inference='joint')\n",
    "    \n",
    "    # Decompose with APCA\n",
    "    S_train = aapca.fit_transform(X=X_train_scaled, Y=Y_train_scaled)\n",
    "    S_test = aapca.transform(X=X_test_scaled, Y=Y_test_scaled)\n",
    "    S_train_scaled = scaler_S.fit_transform(S_train)\n",
    "    S_test_scaled = scaler_S.transform(S_test)\n",
    "    \n",
    "    # Predict ID\n",
    "    model.fit(S_train_scaled, labels_id_train)\n",
    "    y_prob = model.predict_proba(S_test_scaled)\n",
    "    y_pred = model.predict(S_test_scaled)\n",
    "    test_acc = accuracy_score(y_true=labels_id_test, y_pred=y_pred)\n",
    "    id_test_acc_list.append(test_acc)\n",
    "    \n",
    "    # Predict shadow location\n",
    "    no_shadow_idx_train = np.where(labels_shadow_train!=0.5)[0].ravel()\n",
    "    no_shadow_idx_test = np.where(labels_shadow_test!=0.5)[0].ravel()\n",
    "    model.fit(S_train_scaled[no_shadow_idx_train, :], labels_shadow_train[no_shadow_idx_train])\n",
    "    y_prob = model.predict_proba(S_test_scaled[no_shadow_idx_test, :])[:, 1]\n",
    "    y_pred = model.predict(S_test_scaled[no_shadow_idx_test, :])\n",
    "    test_acc = accuracy_score(y_true=labels_shadow_test[no_shadow_idx_test], y_pred=y_pred)\n",
    "    test_auc = roc_auc_score(y_true=labels_shadow_test[no_shadow_idx_test], y_score=y_prob)\n",
    "    shadow_test_acc_list.append(test_acc)\n",
    "    shadow_test_auc_list.append(test_auc)\n"
   ]
  },
  {
   "cell_type": "markdown",
   "id": "understanding-compound",
   "metadata": {},
   "source": [
    "### **Display results** - Performance as a function of adversary strength"
   ]
  },
  {
   "cell_type": "code",
   "execution_count": 12,
   "id": "appointed-couple",
   "metadata": {},
   "outputs": [
    {
     "name": "stdout",
     "output_type": "stream",
     "text": [
      "\n",
      "Logistic regression classification performance:\n",
      "\n",
      "  ID classification:\n",
      "    PCA components:  0.704\n",
      "    APCA components (max acc.):  0.825\n",
      "\n",
      "  Shadow location (left/right) classification:\n",
      "    PCA components:  0.979\n",
      "    APCA components (min acc.):  0.656\n",
      "\n"
     ]
    },
    {
     "data": {
      "image/png": "[encoded data removed]",
      "text/plain": [
       "<Figure size 864x216 with 1 Axes>"
      ]
     },
     "metadata": {
      "needs_background": "light"
     },
     "output_type": "display_data"
    }
   ],
   "source": [
    "# Display baseline PCA accuracy and max APCA accuracy\n",
    "print('\\nLogistic regression classification performance:\\n')\n",
    "print('  ID classification:')\n",
    "print('    PCA components:  %.3f' % (id_test_acc_list[0]))\n",
    "print('    APCA components (max acc.):  %.3f\\n' % (np.max(id_test_acc_list)))\n",
    "print('  Shadow location (left/right) classification:')\n",
    "print('    PCA components:  %.3f' % (shadow_test_acc_list[0]))\n",
    "print('    APCA components (min acc.):  %.3f\\n' % (np.min(shadow_test_acc_list)))\n",
    "\n",
    "# Plot accuracy as a function of adversary strength\n",
    "fig1, ax1 = plt.subplots(nrows=1, ncols=1, figsize=(12.0, 3.0))\n",
    "ax1.plot(mu_list, id_test_acc_list, c='lightseagreen', alpha=0.7, label='identity acc.')\n",
    "ax1.plot(mu_list, shadow_test_acc_list, c='mediumslateblue', linestyle='--', alpha=0.7, label='shadow location acc.')\n",
    "ax1.scatter(mu_list[0], shadow_test_acc_list[0], c='mediumslateblue', alpha=0.7)\n",
    "ax1.scatter(mu_list[0], id_test_acc_list[0], c='lightseagreen', alpha=0.7)\n",
    "ax1.set_yticks([0.60, 0.65, 0.70, 0.75, 0.80, 0.85, 0.90, 0.95, 1.00])\n",
    "ax1.set_title('Yale Face Dataset - Classification Results')\n",
    "ax1.set_xlabel('Adversary Strength $\\mu$')\n",
    "ax1.set_ylabel('Test Accuracy')\n",
    "ax1.grid(alpha=0.3)\n",
    "ax1.set_axisbelow(True)\n",
    "ax1.legend(loc='upper right')\n",
    "plt.show()\n",
    "\n",
    "# Save figure\n",
    "dpi = 600\n",
    "fig1.savefig('figures/yale_face_classification.pdf', bbox_inches='tight', dpi=dpi)\n"
   ]
  },
  {
   "cell_type": "code",
   "execution_count": 32,
   "id": "institutional-deviation",
   "metadata": {},
   "outputs": [
    {
     "data": {
      "image/png": "[encoded data removed]",
      "text/plain": [
       "<Figure size 360x259.2 with 1 Axes>"
      ]
     },
     "metadata": {
      "needs_background": "light"
     },
     "output_type": "display_data"
    }
   ],
   "source": [
    "# Plot accuracy as a function of adversary strength\n",
    "fig1, ax1 = plt.subplots(nrows=1, ncols=1, figsize=(5.0, 3.6))\n",
    "ax1.plot(mu_list, id_test_acc_list, c='blue', alpha=0.6, label='identity acc.')\n",
    "ax1.plot(mu_list, shadow_test_acc_list, c='red', linestyle='--', alpha=0.6, label='shadow location acc.')\n",
    "ax1.scatter(mu_list[0], id_test_acc_list[0], c='blue', alpha=0.6)\n",
    "ax1.scatter(mu_list[0], shadow_test_acc_list[0], c='red', alpha=0.6)\n",
    "ax1.set_xticks([0, 4000, 8000, 12000, 16000])\n",
    "ax1.set_yticks([0.60, 0.70, 0.80, 0.90, 1.00])\n",
    "ax1.set_title('Yale Face Dataset - Classification Results')\n",
    "ax1.set_xlabel('Adversary Strength $\\mu$')\n",
    "ax1.set_ylabel('Test Accuracy')\n",
    "ax1.grid(alpha=0.3)\n",
    "ax1.set_axisbelow(True)\n",
    "ax1.legend(loc='upper right')\n",
    "plt.show()\n",
    "\n",
    "# Save figure\n",
    "dpi = 600\n",
    "fig1.savefig('figures/yale_face_classification.pdf', bbox_inches='tight', dpi=dpi)\n"
   ]
  },
  {
   "cell_type": "code",
   "execution_count": null,
   "id": "tough-input",
   "metadata": {},
   "outputs": [],
   "source": []
  }
 ],
 "metadata": {
  "kernelspec": {
   "display_name": "Python 3",
   "language": "python",
   "name": "python3"
  },
  "language_info": {
   "codemirror_mode": {
    "name": "ipython",
    "version": 3
   },
   "file_extension": ".py",
   "mimetype": "text/x-python",
   "name": "python",
   "nbconvert_exporter": "python",
   "pygments_lexer": "ipython3",
   "version": "3.8.5"
  }
 },
 "nbformat": 4,
 "nbformat_minor": 5
}
