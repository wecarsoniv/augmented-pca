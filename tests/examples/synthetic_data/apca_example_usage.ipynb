{
 "cells": [
  {
   "cell_type": "markdown",
   "id": "behind-biotechnology",
   "metadata": {},
   "source": [
    "## **Adversarial PCA** - Example usage\n",
    "\n",
    "File:  apca_example_usage.ipynb\n",
    "\n",
    "Author:  Billy Carson\n",
    "\n",
    "Date written:  04-11-2021\n",
    "\n",
    "Last modified:  04-11-2021\n",
    "\n",
    "> Description: \n"
   ]
  },
  {
   "cell_type": "code",
   "execution_count": null,
   "id": "objective-visitor",
   "metadata": {},
   "outputs": [],
   "source": []
  }
 ],
 "metadata": {
  "kernelspec": {
   "display_name": "Python 3",
   "language": "python",
   "name": "python3"
  },
  "language_info": {
   "codemirror_mode": {
    "name": "ipython",
    "version": 3
   },
   "file_extension": ".py",
   "mimetype": "text/x-python",
   "name": "python",
   "nbconvert_exporter": "python",
   "pygments_lexer": "ipython3",
   "version": "3.8.5"
  }
 },
 "nbformat": 4,
 "nbformat_minor": 5
}
